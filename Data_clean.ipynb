{
 "cells": [
  {
   "cell_type": "code",
   "execution_count": 2,
   "metadata": {
    "collapsed": true
   },
   "outputs": [],
   "source": [
    "import numpy as np\n",
    "import pandas as pd\n",
    "import matplotlib as plt"
   ]
  },
  {
   "cell_type": "code",
   "execution_count": 76,
   "metadata": {
    "collapsed": true
   },
   "outputs": [],
   "source": [
    "# Read csv file data as pandas dataframe\n",
    "df_BTC = pd.read_csv('./bitcoin.csv', sep = ',')\n",
    "df_LTC = pd.read_csv('./litecoin.csv', sep = ',')\n",
    "df_ETH = pd.read_csv('./ethereum.csv', sep = ',')\n",
    "df_DASH = pd.read_csv('./DigitalCash.csv', sep= ',')\n",
    "df_ZEC = pd.read_csv('./ZCash.csv', sep=',')"
   ]
  },
  {
   "cell_type": "code",
   "execution_count": 77,
   "metadata": {},
   "outputs": [],
   "source": [
    "# Extract the data we need \n",
    "df_BTC = df_BTC[['timeDate','close','open','volumefrom','volumeto']]\n",
    "df_LTC = df_LTC[['timeDate','close','open','volumefrom','volumeto']]\n",
    "df_ETH = df_ETH[['timeDate','close','open','volumefrom','volumeto']]\n",
    "df_DASH = df_DASH[['timeDate','close','open','volumefrom','volumeto']]\n",
    "df_ZEC = df_ZEC[['timeDate','close','open','volumefrom','volumeto']]"
   ]
  },
  {
   "cell_type": "code",
   "execution_count": 78,
   "metadata": {},
   "outputs": [],
   "source": [
    "# Extract close price data with timeDate \n",
    "BTC_closePrice = df_BTC[['timeDate','close']]\n",
    "LTC_closePrice = df_LTC[['timeDate','close']]\n",
    "ETH_closePrice = df_ETH[['timeDate','close']]\n",
    "DASH_closePrice = df_DASH[['timeDate','close']]\n",
    "ZEC_closePrice = df_ZEC[['timeDate','close']]"
   ]
  },
  {
   "cell_type": "code",
   "execution_count": 125,
   "metadata": {},
   "outputs": [],
   "source": [
    "# BTC close price data from 2017-01-01 to 2017-12-31\n",
    "BTC_Last_year_price = BTC_closePrice[2361:2726]\n",
    "BTC_Last_year_price.to_csv('BTC_Last_year_price.csv', index=False)\n",
    "# BTC close price data from 2017-06-01 to 2017-12-31\n",
    "BTC_Half_year_price = BTC_closePrice[2512:2726] \n",
    "BTC_Half_year_price.to_csv('BTC_Half_year_price.csv', index=False)\n",
    "# BTC close price data from 2017-09-01 to 2017-12-31\n",
    "BTC_Last_quarter_price = BTC_all_price[2604:2726]\n",
    "BTC_Last_quarter_price.to_csv('BTC_Last_quarter_price.csv', index=False)\n",
    "# BTC close price data from 2017-12-01 to 2017-12-31\n",
    "BTC_Last_month_price = BTC_closePrice[2695:2726]\n",
    "BTC_Last_month_price.to_csv('BTC_Last_month_price.csv', index=False)"
   ]
  },
  {
   "cell_type": "code",
   "execution_count": 81,
   "metadata": {
    "collapsed": true
   },
   "outputs": [],
   "source": [
    "# LTC close price data from 2017-01-01 to 2017-12-31\n",
    "LTC_Last_year_price = LTC_closePrice[1166:1531]\n",
    "LTC_Last_year_price.to_csv('LTC_Last_year_price.csv', index=False)\n",
    "# LTC close price data from 2017-06-01 to 2017-12-31\n",
    "LTC_Half_year_price = LTC_closePrice[1317:1531]\n",
    "LTC_Half_year_price.to_csv('LTC_Half_year_price.csv', index=False)\n",
    "# LTC close price data from 2017-09-01 to 2017-12-31\n",
    "LTC_Last_quarter_price = LTC_closePrice[1409:1531]\n",
    "LTC_Last_quarter_price.to_csv('LTC_Last_quarter_price.csv', index=False)\n",
    "# LTC close price data from 2017-12-01 to 2017-12-31\n",
    "LTC_Last_month_price = LTC_closePrice[1500:1531]\n",
    "LTC_Last_month_price.to_csv('LTC_Last_month_price.csv', index=False)"
   ]
  },
  {
   "cell_type": "code",
   "execution_count": 99,
   "metadata": {},
   "outputs": [],
   "source": [
    "# ETH close price data from 2017-01-01 to 2017-12-31\n",
    "ETH_Last_year_price = ETH_closePrice[514:879]\n",
    "ETH_Last_year_price.to_csv('ETH_Last_year_price.csv', index=False)\n",
    "# ETH close price data from 2017-06-01 to 2017-12-31\n",
    "ETH_Half_year_price = ETH_closePrice[665:879]\n",
    "ETH_Half_year_price.to_csv('ETH_Half_year_price.csv', index=False)\n",
    "# ETH close price data from 2017-09-01 to 2017-12-31\n",
    "ETH_Last_quarter_price = ETH_closePrice[757:879]\n",
    "ETH_Last_quarter_price.to_csv('ETH_Last_quarter_price.csv', index=False)\n",
    "# ETH close price data from 2017-12-01 to 2017-12-31\n",
    "ETH_Last_month_price = ETH_closePrice[848:879]\n",
    "ETH_Last_month_price.to_csv('ETH_Last_month_price.csv', index=False)"
   ]
  },
  {
   "cell_type": "code",
   "execution_count": 112,
   "metadata": {},
   "outputs": [],
   "source": [
    "# DASH close price data from 2017-01-01 to 2017-12-31\n",
    "DASH_Last_year_price = DASH_closePrice[1059:1424]\n",
    "DASH_Last_year_price.to_csv('DASH_Last_year_price.csv', index=False)\n",
    "# DASH close price data from 2017-06-01 to 2017-12-31\n",
    "DASH_Half_year_price = DASH_closePrice[1210:1424]\n",
    "DASH_Half_year_price.to_csv('DASH_Half_year_price.csv', index=False)\n",
    "# DASH close price data from 2017-09-01 to 2017-12-31\n",
    "DASH_Last_quarter_price = DASH_closePrice[1302:1424]\n",
    "DASH_Last_quarter_price.to_csv('DASH_Last_quarter_price.csv', index=False)\n",
    "# DASH close price data from 2017-12-01 to 2017-12-31\n",
    "DASH_Last_month_price = DASH_closePrice[1393:1424]\n",
    "DASH_Last_month_price.to_csv('DASH_Last_month_price.csv', index=False)"
   ]
  },
  {
   "cell_type": "code",
   "execution_count": 124,
   "metadata": {},
   "outputs": [],
   "source": [
    "# ZEC close price data from 2017-01-01 to 2017-12-31\n",
    "ZEC_Last_year_price = ZEC_closePrice[66:431]\n",
    "ZEC_Last_year_price.to_csv('ZEC_Last_year_price.csv', index=False)\n",
    "# ZEC close price data from 2017-06-01 to 2017-12-31\n",
    "ZEC_Half_year_price = ZEC_closePrice[217:431]\n",
    "ZEC_Half_year_price.to_csv('ZEC_Half_year_price.csv', index=False)\n",
    "# ZEC close price data from 2017-09-01 to 2017-12-31\n",
    "ZEC_Last_quarter_price = ZEC_closePrice[309:431]\n",
    "ZEC_Last_quarter_price.to_csv('ZEC_Last_quarter_price.csv', index=False)\n",
    "# ZEC close price data from 2017-12-01 to 2017-12-31\n",
    "ZEC_Last_month_price = ZEC_closePrice[400:431]\n",
    "ZEC_Last_month_price.to_csv('ZEC_Last_month_price.csv', index=False)"
   ]
  },
  {
   "cell_type": "code",
   "execution_count": 44,
   "metadata": {
    "collapsed": true
   },
   "outputs": [],
   "source": []
  },
  {
   "cell_type": "code",
   "execution_count": 57,
   "metadata": {},
   "outputs": [],
   "source": []
  },
  {
   "cell_type": "code",
   "execution_count": 67,
   "metadata": {},
   "outputs": [],
   "source": []
  },
  {
   "cell_type": "code",
   "execution_count": 73,
   "metadata": {},
   "outputs": [],
   "source": []
  },
  {
   "cell_type": "code",
   "execution_count": 75,
   "metadata": {
    "collapsed": true
   },
   "outputs": [],
   "source": []
  }
 ],
 "metadata": {
  "kernelspec": {
   "display_name": "Python 2",
   "language": "python",
   "name": "python2"
  },
  "language_info": {
   "codemirror_mode": {
    "name": "ipython",
    "version": 2
   },
   "file_extension": ".py",
   "mimetype": "text/x-python",
   "name": "python",
   "nbconvert_exporter": "python",
   "pygments_lexer": "ipython2",
   "version": "2.7.14"
  }
 },
 "nbformat": 4,
 "nbformat_minor": 2
}
